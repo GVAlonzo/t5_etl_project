{
 "cells": [
  {
   "cell_type": "code",
   "execution_count": 20,
   "id": "f308335f",
   "metadata": {},
   "outputs": [],
   "source": [
    "####################################################################\n",
    "##  \n",
    "##  ETL PROJECT - TEAM 5\n",
    "##          - Fatma Butun (Chicago Data)\n",
    "##          - George Alonzo (Los Angeles Data)\n",
    "##\n",
    "##\n",
    "####################################################################"
   ]
  },
  {
   "cell_type": "code",
   "execution_count": 21,
   "id": "546e7db8",
   "metadata": {},
   "outputs": [],
   "source": [
    "import pandas as pd\n",
    "from sqlalchemy import create_engine\n",
    "from datetime import datetime"
   ]
  },
  {
   "cell_type": "markdown",
   "id": "be7c22da",
   "metadata": {},
   "source": [
    "# OVERVIEW\n",
    "\n",
    "This project will perform the ETL process on 2 CSV files relating to **2020Q1** bike share data from the **City of Chicago** and the **City of Los Angeles**.  *(NOTE: We are only working with 2020Q1 data as it is the most recent provided by the City of Chicago.)*  \n",
    "\n",
    "We will begin by loading each CSV file into separate, initial dataframes.  From there, we will begin the transformation process by focusing on only the required columns and add unique prefixes & static city code, where needed, to differentiate between the two data sets once they are loaded into the same table.  Date/timestamps will be split into two separate columns and the duration will be calculated for where it is not already provided.  Columns will be renamed and reordered to remain consistent as we prep to insert into the SQL tables.\n",
    "\n",
    "We will store station information separately into its own SQL table to avoid redundant data.  Since the station IDs are defined as integers in both files, we will add a city prefix to the station ID to ensure they are identifyable to the city in which they belong.\n",
    "\n",
    "### PREREQUISITES:  \n",
    "Creation of the SQL database and tables must be completed prior to running this notebook.  Please see ``readme`` for more information."
   ]
  },
  {
   "cell_type": "markdown",
   "id": "6482a6b6",
   "metadata": {},
   "source": [
    "# EXTRACT\n",
    "\n",
    "##### This section reads each of the CSV files and stores into separate dataframes."
   ]
  },
  {
   "cell_type": "markdown",
   "id": "fdfc9a0a",
   "metadata": {},
   "source": [
    "## *LOS ANGELES*"
   ]
  },
  {
   "cell_type": "code",
   "execution_count": 22,
   "id": "effda4e2",
   "metadata": {},
   "outputs": [],
   "source": [
    "# Read-in Los Angeles ride share data into an initial dataframe\n",
    "la_csv = 'data/metro-bike-share-trips-2020-q1.csv'\n",
    "la_csv_df = pd.read_csv(la_csv)\n",
    "#la_csv_df.head()"
   ]
  },
  {
   "cell_type": "markdown",
   "id": "6f48cccb",
   "metadata": {},
   "source": [
    "## *CHICAGO*"
   ]
  },
  {
   "cell_type": "code",
   "execution_count": 23,
   "id": "5f77b3a1",
   "metadata": {},
   "outputs": [],
   "source": [
    "# reda the csv into a dataframe\n",
    "chi_bikeshare = pd.read_csv(\"data/Divvy_Trips_2020_Q1.csv\")\n",
    "# check dataframe\n",
    "#chi_bikeshare.head()"
   ]
  },
  {
   "cell_type": "markdown",
   "id": "d3e828b0",
   "metadata": {},
   "source": [
    "# TRANSFORM\n",
    "\n",
    "##### This section processes the initial dataframes created from the Extract section and prepares for the Load section."
   ]
  },
  {
   "cell_type": "markdown",
   "id": "cd3106ff",
   "metadata": {},
   "source": [
    "## *LOS ANGELES*"
   ]
  },
  {
   "cell_type": "markdown",
   "id": "0d874573",
   "metadata": {},
   "source": [
    "##### *Bike Share Data*"
   ]
  },
  {
   "cell_type": "code",
   "execution_count": 24,
   "id": "570e52f9",
   "metadata": {},
   "outputs": [],
   "source": [
    "# Prefix the station IDs with a city code to make the station IDs unique.\n",
    "# Add static city name to differentiate records within the same table in the database\n",
    "la_csv_df['city_name'] = 'Los Angeles'\n",
    "la_csv_df['start_station'] = 'LA-'+la_csv_df['start_station'].astype(str)\n",
    "la_csv_df['end_station'] = 'LA-'+la_csv_df['end_station'].astype(str)\n",
    "#la_csv_df.head()"
   ]
  },
  {
   "cell_type": "code",
   "execution_count": 25,
   "id": "bf829964",
   "metadata": {},
   "outputs": [],
   "source": [
    "# Slim-down the dataframe to just the required columns for the rideshare table\n",
    "la_slim_df = la_csv_df[['trip_id','start_time','end_time','start_station','end_station','duration','passholder_type','city_name']].copy()\n",
    "#la_slim_df.head()"
   ]
  },
  {
   "cell_type": "code",
   "execution_count": 26,
   "id": "f950229e",
   "metadata": {},
   "outputs": [],
   "source": [
    "# Rename columns to be consistent amongst the two data sources\n",
    "la_renamed_df = la_slim_df.rename(columns={'trip_id': 'ride_id', 'start_time':'start_dt','end_time':'end_dt','start_station': 'start_station_id','end_station':'end_station_id','passholder_type':'membership_type'})\n",
    "#la_renamed_df.head()"
   ]
  },
  {
   "cell_type": "code",
   "execution_count": 27,
   "id": "88e8c5db",
   "metadata": {},
   "outputs": [],
   "source": [
    "# Split start start & end datetime columns into separate date & time columns\n",
    "la_renamed_df['start_date'] = pd.to_datetime(la_renamed_df['start_dt']).dt.date\n",
    "la_renamed_df['start_time'] = pd.to_datetime(la_renamed_df['start_dt']).dt.time\n",
    "la_renamed_df['end_date'] = pd.to_datetime(la_renamed_df['end_dt']).dt.date\n",
    "la_renamed_df['end_time'] = pd.to_datetime(la_renamed_df['end_dt']).dt.time\n",
    "#la_renamed_df.head()"
   ]
  },
  {
   "cell_type": "code",
   "execution_count": 28,
   "id": "00441a8a",
   "metadata": {},
   "outputs": [],
   "source": [
    "# Drop the original start & end datetimestamp columns\n",
    "la_renamed_df = la_renamed_df.drop(['start_dt'],axis=1)\n",
    "la_renamed_df = la_renamed_df.drop(['end_dt'],axis=1)\n",
    "#la_renamed_df.head()"
   ]
  },
  {
   "cell_type": "code",
   "execution_count": 29,
   "id": "2e4fec4e",
   "metadata": {},
   "outputs": [],
   "source": [
    "# Reorder fields to be consistent amongst the two dataframes\n",
    "la_bikeshare_df = la_renamed_df[['ride_id','start_station_id','start_date','start_time',\n",
    "                                 'end_station_id','end_date','end_time','duration','membership_type',\n",
    "                                'city_name']]\n",
    "\n",
    "#la_bikeshare_df.head()"
   ]
  },
  {
   "cell_type": "markdown",
   "id": "3ed7c719",
   "metadata": {},
   "source": [
    "##### *Station Data*"
   ]
  },
  {
   "cell_type": "code",
   "execution_count": 30,
   "id": "21eb355e",
   "metadata": {},
   "outputs": [],
   "source": [
    "# Slim-down the dataframe to just the required columns for the station table\n",
    "la_start_stations= la_csv_df[['start_station','start_lat','start_lon']]\n",
    "la_start_stations = la_start_stations.rename(columns={'start_station': 'station_id', 'start_lat': 'latitude','start_lon': 'longitude'})\n",
    "\n",
    "\n",
    "#la_start_stations.head()"
   ]
  },
  {
   "cell_type": "code",
   "execution_count": 31,
   "id": "90ae2d52",
   "metadata": {},
   "outputs": [],
   "source": [
    "# Slim-down the dataframe to just the required columns for the station table\n",
    "la_end_stations= la_csv_df[['end_station','end_lat','end_lon']]\n",
    "la_end_stations = la_end_stations.rename(columns={'end_station': 'station_id', 'end_lat': 'latitude','end_lon': 'longitude'})\n",
    "#la_end_stations.head()"
   ]
  },
  {
   "cell_type": "code",
   "execution_count": 32,
   "id": "529144f1",
   "metadata": {},
   "outputs": [],
   "source": [
    "# Concatenate both the start & end dataframes into a single df\n",
    "la_station_df = pd.concat([la_start_stations,la_end_stations])\n",
    "# Drop any duplicates\n",
    "la_station_df = la_station_df.drop_duplicates()\n",
    "# WE ARE NOT DROPPING ANY NaN ROWS AS THIS WILL CAUSE ERRORS DURING THE\n",
    "#    INSERT PROCESS AS THE STATION IS DESIGNATED AS A FOREIGN KEY \n",
    "#la_station_df = la_station_df.dropna()\n",
    "#la_station_df"
   ]
  },
  {
   "cell_type": "markdown",
   "id": "9bdeb70c",
   "metadata": {},
   "source": [
    "## *CHICAGO*"
   ]
  },
  {
   "cell_type": "code",
   "execution_count": 33,
   "id": "93810761",
   "metadata": {},
   "outputs": [],
   "source": [
    "# rename columns to have them in unisome with the other dataframe\n",
    "\n",
    "chi_bikeshare = chi_bikeshare.rename(columns={\"started_at\":\"start_time\", \"ended_at\":\"end_time\", \"member_casual\":\"membership_type\"})"
   ]
  },
  {
   "cell_type": "code",
   "execution_count": 34,
   "id": "d22d8435",
   "metadata": {},
   "outputs": [],
   "source": [
    "# append CHI- to the station IDs to prevent any duplicate IDs between two different dataframes\n",
    "\n",
    "chi_bikeshare['start_station_id'] = 'CHI-' + chi_bikeshare['start_station_id'].astype(str) \n",
    "chi_bikeshare['end_station_id'] = 'CHI-' + chi_bikeshare['end_station_id'].astype(str) \n",
    "#chi_bikeshare.head()"
   ]
  },
  {
   "cell_type": "markdown",
   "id": "06914103",
   "metadata": {},
   "source": [
    "Make a table that contains all the station IDs and their latitude and longitude information"
   ]
  },
  {
   "cell_type": "code",
   "execution_count": 35,
   "id": "cf8335a6",
   "metadata": {},
   "outputs": [],
   "source": [
    "# extract relavant columns for the station id df\n",
    "chi_station_id_s= chi_bikeshare[[\"start_station_id\", \"start_lat\", \"start_lng\"]]\n",
    "chi_station_id_e= chi_bikeshare[[\"end_station_id\", \"end_lat\", \"end_lng\"]]"
   ]
  },
  {
   "cell_type": "code",
   "execution_count": 36,
   "id": "c9170e85",
   "metadata": {},
   "outputs": [],
   "source": [
    "# rename column names so that both station df will have the same columns\n",
    "chi_station_id_s =chi_station_id_s.rename(columns={\"start_station_id\":\"station_id\", \"start_lat\":\"latitude\",\"start_lng\": \"longitude\"})"
   ]
  },
  {
   "cell_type": "code",
   "execution_count": 37,
   "id": "7b4d4f5d",
   "metadata": {},
   "outputs": [],
   "source": [
    "#rename column names so that both station df will have the same columns\n",
    "chi_station_id_e= chi_station_id_e.rename(columns={\"end_station_id\":\"station_id\", \"end_lat\":\"latitude\",\"end_lng\": \"longitude\"})"
   ]
  },
  {
   "cell_type": "code",
   "execution_count": 38,
   "id": "4ffe7c50",
   "metadata": {},
   "outputs": [],
   "source": [
    "# combine two df in one and drop the duplicate station_ids\n",
    "chi_station_id = chi_station_id_e.append(chi_station_id_s)\n",
    "chi_station_id = chi_station_id.drop_duplicates(subset=['station_id'])\n",
    "#chi_station_id[\"station_id\"].nunique()\n",
    "#chi_station_id.head()"
   ]
  },
  {
   "cell_type": "markdown",
   "id": "fe4c02d6",
   "metadata": {},
   "source": [
    "Make a table that contains information about chicago bike share. The dataframe will include information about ride_id, start_station_id, start_date, start_time, end_station_id, end_date, end_time, duration , membership_type and city_name."
   ]
  },
  {
   "cell_type": "code",
   "execution_count": 39,
   "id": "686d4cc4",
   "metadata": {},
   "outputs": [],
   "source": [
    "# continue with the main bikeshare dataframe.  keep relavant columns\n",
    "\n",
    "chi_bikeshare =chi_bikeshare[[\"ride_id\", \"start_time\", \"end_time\", \"start_station_id\", \"end_station_id\",\"membership_type\" ]]\n",
    "#chi_bikeshare.head()"
   ]
  },
  {
   "cell_type": "code",
   "execution_count": 40,
   "id": "da6a9f29",
   "metadata": {},
   "outputs": [],
   "source": [
    "# make duplicate columns of start_time and end_time to use later\n",
    "\n",
    "chi_bikeshare[\"start_tm\"] = chi_bikeshare[\"start_time\"]\n",
    "chi_bikeshare[\"end_tm\"] = chi_bikeshare[\"end_time\"]"
   ]
  },
  {
   "cell_type": "code",
   "execution_count": 41,
   "id": "ba4603a7",
   "metadata": {},
   "outputs": [],
   "source": [
    "# Change the start_time and end_time columns into datetime64 in order to calculate the duration\n",
    "chi_bikeshare[\"end_time\"] = pd.to_datetime(chi_bikeshare[\"end_time\"])\n",
    "chi_bikeshare[\"start_time\"] = pd.to_datetime(chi_bikeshare[\"start_time\"])\n",
    "\n",
    "#chi_bikeshare.head()"
   ]
  },
  {
   "cell_type": "code",
   "execution_count": 42,
   "id": "a6cc57cb",
   "metadata": {},
   "outputs": [],
   "source": [
    "# Calculate the duration of each bike ride\n",
    "chi_bikeshare[\"duration\"] = (chi_bikeshare[\"end_time\"] - chi_bikeshare[\"start_time\"]).astype('timedelta64[m]')\n",
    "#chi_bikeshare.head()"
   ]
  },
  {
   "cell_type": "code",
   "execution_count": 43,
   "id": "0762bb85",
   "metadata": {},
   "outputs": [],
   "source": [
    "# add the city name column and fill with \"Chicago\"\n",
    "chi_bikeshare[\"city_name\"] = \"Chicago\"\n",
    "#chi_bikeshare.head()"
   ]
  },
  {
   "cell_type": "code",
   "execution_count": 44,
   "id": "2add29b1",
   "metadata": {},
   "outputs": [],
   "source": [
    "a = chi_bikeshare\n",
    "#a.head()"
   ]
  },
  {
   "cell_type": "code",
   "execution_count": 45,
   "id": "4da76d33",
   "metadata": {},
   "outputs": [],
   "source": [
    "# drop the start time and end time columns that are in datetype.\n",
    "a= a.drop(columns=[\"start_time\", \"end_time\"])\n",
    "#a.head()"
   ]
  },
  {
   "cell_type": "code",
   "execution_count": 46,
   "id": "c8a0d943",
   "metadata": {},
   "outputs": [],
   "source": [
    "# seperate the start and end tm columns into 2 columns each\n",
    "\n",
    "a[['start_date', 'start_time']] = a['start_tm'].str.split(' ', 1, expand=True)\n",
    "a[['end_date', 'end_time']] = a['end_tm'].str.split(' ', 1, expand=True)\n",
    "#a.head()"
   ]
  },
  {
   "cell_type": "code",
   "execution_count": 47,
   "id": "5c1f9fb1",
   "metadata": {},
   "outputs": [],
   "source": [
    "# keep only required columns and rearrange the order\n",
    "\n",
    "chicago_bikeshare_df= a[[\"ride_id\", \"start_station_id\", \"start_date\", \"start_time\", \"end_station_id\", \"end_date\", \"end_time\", \"duration\" , \"membership_type\", \"city_name\"]]\n",
    "# check final dataframe\n",
    "#chicago_bikeshare_df.head()"
   ]
  },
  {
   "cell_type": "markdown",
   "id": "fe5bdf21",
   "metadata": {},
   "source": [
    "# LOAD\n",
    "\n",
    "##### This section creates the connection to the SQL database and inserts data"
   ]
  },
  {
   "cell_type": "code",
   "execution_count": 51,
   "id": "08dca40a",
   "metadata": {},
   "outputs": [],
   "source": [
    "# create a connection string to postgres\n",
    "connection_string = \"postgres:bootcamp@localhost:5432/bikeshare\"\n",
    "engine = create_engine(f'postgresql://{connection_string}')"
   ]
  },
  {
   "cell_type": "code",
   "execution_count": 52,
   "id": "60423913",
   "metadata": {},
   "outputs": [
    {
     "name": "stderr",
     "output_type": "stream",
     "text": [
      "<ipython-input-52-6abbb41c1372>:2: SADeprecationWarning: The Engine.table_names() method is deprecated and will be removed in a future release.  Please refer to Inspector.get_table_names(). (deprecated since: 1.4)\n",
      "  engine.table_names()\n"
     ]
    },
    {
     "data": {
      "text/plain": [
       "['station', 'bike_trip']"
      ]
     },
     "execution_count": 52,
     "metadata": {},
     "output_type": "execute_result"
    }
   ],
   "source": [
    "# check the tables in thebikeshare database\n",
    "engine.table_names()"
   ]
  },
  {
   "cell_type": "markdown",
   "id": "4dd093af",
   "metadata": {},
   "source": [
    "## *LOS ANGELES*"
   ]
  },
  {
   "cell_type": "code",
   "execution_count": 53,
   "id": "51ad92c7",
   "metadata": {},
   "outputs": [],
   "source": [
    "la_station_df.to_sql(name='station', con=engine, if_exists='append', index=False)"
   ]
  },
  {
   "cell_type": "code",
   "execution_count": 54,
   "id": "5c540573",
   "metadata": {},
   "outputs": [],
   "source": [
    "la_bikeshare_df.to_sql(name='bike_trip', con=engine, if_exists='append', index=False)"
   ]
  },
  {
   "cell_type": "markdown",
   "id": "5ca0e0a4",
   "metadata": {},
   "source": [
    "## *CHICAGO*"
   ]
  },
  {
   "cell_type": "code",
   "execution_count": 55,
   "id": "17dbd60e",
   "metadata": {},
   "outputs": [],
   "source": [
    "chi_station_id.to_sql(name='station', con=engine, if_exists='append', index=False)"
   ]
  },
  {
   "cell_type": "code",
   "execution_count": 56,
   "id": "b3b58eb3",
   "metadata": {},
   "outputs": [],
   "source": [
    "chicago_bikeshare_df.to_sql(name='bike_trip', con=engine, if_exists='append', index=False)"
   ]
  },
  {
   "cell_type": "markdown",
   "id": "158f55a5",
   "metadata": {},
   "source": [
    "# BASIC DATABASE CHECKING & VALIDATIONS\n",
    "\n",
    "#####  This section performs a quick check to validate that data was properly inserted into the table."
   ]
  },
  {
   "cell_type": "code",
   "execution_count": 59,
   "id": "c13f1fea",
   "metadata": {},
   "outputs": [
    {
     "data": {
      "text/html": [
       "<div>\n",
       "<style scoped>\n",
       "    .dataframe tbody tr th:only-of-type {\n",
       "        vertical-align: middle;\n",
       "    }\n",
       "\n",
       "    .dataframe tbody tr th {\n",
       "        vertical-align: top;\n",
       "    }\n",
       "\n",
       "    .dataframe thead th {\n",
       "        text-align: right;\n",
       "    }\n",
       "</style>\n",
       "<table border=\"1\" class=\"dataframe\">\n",
       "  <thead>\n",
       "    <tr style=\"text-align: right;\">\n",
       "      <th></th>\n",
       "      <th>ride_id</th>\n",
       "      <th>start_station_id</th>\n",
       "      <th>start_date</th>\n",
       "      <th>start_time</th>\n",
       "      <th>end_station_id</th>\n",
       "      <th>end_date</th>\n",
       "      <th>end_time</th>\n",
       "      <th>duration</th>\n",
       "      <th>membership_type</th>\n",
       "      <th>city_name</th>\n",
       "    </tr>\n",
       "  </thead>\n",
       "  <tbody>\n",
       "    <tr>\n",
       "      <th>0</th>\n",
       "      <td>134867493</td>\n",
       "      <td>LA-3063</td>\n",
       "      <td>2020-01-01</td>\n",
       "      <td>00:16:00</td>\n",
       "      <td>LA-4491</td>\n",
       "      <td>2020-01-01</td>\n",
       "      <td>00:41:00</td>\n",
       "      <td>25.0</td>\n",
       "      <td>Monthly Pass</td>\n",
       "      <td>Los Angeles</td>\n",
       "    </tr>\n",
       "    <tr>\n",
       "      <th>1</th>\n",
       "      <td>134867799</td>\n",
       "      <td>LA-4285</td>\n",
       "      <td>2020-01-01</td>\n",
       "      <td>00:24:00</td>\n",
       "      <td>LA-4354</td>\n",
       "      <td>2020-01-01</td>\n",
       "      <td>00:59:00</td>\n",
       "      <td>35.0</td>\n",
       "      <td>One Day Pass</td>\n",
       "      <td>Los Angeles</td>\n",
       "    </tr>\n",
       "    <tr>\n",
       "      <th>2</th>\n",
       "      <td>134868104</td>\n",
       "      <td>LA-4344</td>\n",
       "      <td>2020-01-01</td>\n",
       "      <td>00:31:00</td>\n",
       "      <td>LA-4322</td>\n",
       "      <td>2020-01-01</td>\n",
       "      <td>01:08:00</td>\n",
       "      <td>37.0</td>\n",
       "      <td>Walk-up</td>\n",
       "      <td>Los Angeles</td>\n",
       "    </tr>\n",
       "    <tr>\n",
       "      <th>3</th>\n",
       "      <td>134868103</td>\n",
       "      <td>LA-4344</td>\n",
       "      <td>2020-01-01</td>\n",
       "      <td>00:32:00</td>\n",
       "      <td>LA-4322</td>\n",
       "      <td>2020-01-01</td>\n",
       "      <td>01:08:00</td>\n",
       "      <td>36.0</td>\n",
       "      <td>Walk-up</td>\n",
       "      <td>Los Angeles</td>\n",
       "    </tr>\n",
       "    <tr>\n",
       "      <th>4</th>\n",
       "      <td>134868102</td>\n",
       "      <td>LA-4344</td>\n",
       "      <td>2020-01-01</td>\n",
       "      <td>00:33:00</td>\n",
       "      <td>LA-4322</td>\n",
       "      <td>2020-01-01</td>\n",
       "      <td>01:08:00</td>\n",
       "      <td>35.0</td>\n",
       "      <td>Walk-up</td>\n",
       "      <td>Los Angeles</td>\n",
       "    </tr>\n",
       "  </tbody>\n",
       "</table>\n",
       "</div>"
      ],
      "text/plain": [
       "     ride_id start_station_id  start_date start_time end_station_id  \\\n",
       "0  134867493          LA-3063  2020-01-01   00:16:00        LA-4491   \n",
       "1  134867799          LA-4285  2020-01-01   00:24:00        LA-4354   \n",
       "2  134868104          LA-4344  2020-01-01   00:31:00        LA-4322   \n",
       "3  134868103          LA-4344  2020-01-01   00:32:00        LA-4322   \n",
       "4  134868102          LA-4344  2020-01-01   00:33:00        LA-4322   \n",
       "\n",
       "     end_date  end_time  duration membership_type    city_name  \n",
       "0  2020-01-01  00:41:00      25.0    Monthly Pass  Los Angeles  \n",
       "1  2020-01-01  00:59:00      35.0    One Day Pass  Los Angeles  \n",
       "2  2020-01-01  01:08:00      37.0         Walk-up  Los Angeles  \n",
       "3  2020-01-01  01:08:00      36.0         Walk-up  Los Angeles  \n",
       "4  2020-01-01  01:08:00      35.0         Walk-up  Los Angeles  "
      ]
     },
     "execution_count": 59,
     "metadata": {},
     "output_type": "execute_result"
    }
   ],
   "source": [
    "pd.read_sql_query('select * from bike_trip', con=engine).head()"
   ]
  },
  {
   "cell_type": "code",
   "execution_count": 60,
   "id": "e33f9932",
   "metadata": {},
   "outputs": [
    {
     "data": {
      "text/html": [
       "<div>\n",
       "<style scoped>\n",
       "    .dataframe tbody tr th:only-of-type {\n",
       "        vertical-align: middle;\n",
       "    }\n",
       "\n",
       "    .dataframe tbody tr th {\n",
       "        vertical-align: top;\n",
       "    }\n",
       "\n",
       "    .dataframe thead th {\n",
       "        text-align: right;\n",
       "    }\n",
       "</style>\n",
       "<table border=\"1\" class=\"dataframe\">\n",
       "  <thead>\n",
       "    <tr style=\"text-align: right;\">\n",
       "      <th></th>\n",
       "      <th>city_name</th>\n",
       "      <th>count</th>\n",
       "    </tr>\n",
       "  </thead>\n",
       "  <tbody>\n",
       "    <tr>\n",
       "      <th>0</th>\n",
       "      <td>Chicago</td>\n",
       "      <td>426887</td>\n",
       "    </tr>\n",
       "    <tr>\n",
       "      <th>1</th>\n",
       "      <td>Los Angeles</td>\n",
       "      <td>76391</td>\n",
       "    </tr>\n",
       "  </tbody>\n",
       "</table>\n",
       "</div>"
      ],
      "text/plain": [
       "     city_name   count\n",
       "0      Chicago  426887\n",
       "1  Los Angeles   76391"
      ]
     },
     "execution_count": 60,
     "metadata": {},
     "output_type": "execute_result"
    }
   ],
   "source": [
    "pd.read_sql_query('select city_name, count(*) from bike_trip group by city_name', con=engine).head()"
   ]
  },
  {
   "cell_type": "code",
   "execution_count": 62,
   "id": "7eb32881",
   "metadata": {},
   "outputs": [
    {
     "data": {
      "text/html": [
       "<div>\n",
       "<style scoped>\n",
       "    .dataframe tbody tr th:only-of-type {\n",
       "        vertical-align: middle;\n",
       "    }\n",
       "\n",
       "    .dataframe tbody tr th {\n",
       "        vertical-align: top;\n",
       "    }\n",
       "\n",
       "    .dataframe thead th {\n",
       "        text-align: right;\n",
       "    }\n",
       "</style>\n",
       "<table border=\"1\" class=\"dataframe\">\n",
       "  <thead>\n",
       "    <tr style=\"text-align: right;\">\n",
       "      <th></th>\n",
       "      <th>station_id</th>\n",
       "      <th>latitude</th>\n",
       "      <th>longitude</th>\n",
       "    </tr>\n",
       "  </thead>\n",
       "  <tbody>\n",
       "    <tr>\n",
       "      <th>0</th>\n",
       "      <td>LA-4403</td>\n",
       "      <td>33.943359</td>\n",
       "      <td>-118.248238</td>\n",
       "    </tr>\n",
       "    <tr>\n",
       "      <th>1</th>\n",
       "      <td>LA-4504</td>\n",
       "      <td>33.958790</td>\n",
       "      <td>-118.448280</td>\n",
       "    </tr>\n",
       "    <tr>\n",
       "      <th>2</th>\n",
       "      <td>LA-4469</td>\n",
       "      <td>33.970242</td>\n",
       "      <td>-118.426071</td>\n",
       "    </tr>\n",
       "    <tr>\n",
       "      <th>3</th>\n",
       "      <td>LA-4496</td>\n",
       "      <td>33.972980</td>\n",
       "      <td>-118.423943</td>\n",
       "    </tr>\n",
       "    <tr>\n",
       "      <th>4</th>\n",
       "      <td>LA-4470</td>\n",
       "      <td>33.976189</td>\n",
       "      <td>-118.418419</td>\n",
       "    </tr>\n",
       "  </tbody>\n",
       "</table>\n",
       "</div>"
      ],
      "text/plain": [
       "  station_id   latitude   longitude\n",
       "0    LA-4403  33.943359 -118.248238\n",
       "1    LA-4504  33.958790 -118.448280\n",
       "2    LA-4469  33.970242 -118.426071\n",
       "3    LA-4496  33.972980 -118.423943\n",
       "4    LA-4470  33.976189 -118.418419"
      ]
     },
     "execution_count": 62,
     "metadata": {},
     "output_type": "execute_result"
    }
   ],
   "source": [
    "pd.read_sql_query('select * from station order by latitude', con=engine).head()"
   ]
  },
  {
   "cell_type": "code",
   "execution_count": null,
   "id": "3c5389e7",
   "metadata": {},
   "outputs": [],
   "source": []
  }
 ],
 "metadata": {
  "kernelspec": {
   "display_name": "Python 3",
   "language": "python",
   "name": "python3"
  },
  "language_info": {
   "codemirror_mode": {
    "name": "ipython",
    "version": 3
   },
   "file_extension": ".py",
   "mimetype": "text/x-python",
   "name": "python",
   "nbconvert_exporter": "python",
   "pygments_lexer": "ipython3",
   "version": "3.8.8"
  }
 },
 "nbformat": 4,
 "nbformat_minor": 5
}
